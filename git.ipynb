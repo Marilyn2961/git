{
 "cells": [
  {
   "cell_type": "code",
   "execution_count": 1,
   "id": "2b8bdede",
   "metadata": {},
   "outputs": [
    {
     "name": "stdout",
     "output_type": "stream",
     "text": [
      "This is a beautiful day at Moringa data scientist 2025\n"
     ]
    }
   ],
   "source": [
    "day1 = \"This is a beautiful day\"\n",
    "day2 = \"Moringa data scientist 2025\"\n",
    "print(f\"{day1} at {day2}\")"
   ]
  }
 ],
 "metadata": {
  "kernelspec": {
   "display_name": "base",
   "language": "python",
   "name": "python3"
  },
  "language_info": {
   "codemirror_mode": {
    "name": "ipython",
    "version": 3
   },
   "file_extension": ".py",
   "mimetype": "text/x-python",
   "name": "python",
   "nbconvert_exporter": "python",
   "pygments_lexer": "ipython3",
   "version": "3.11.7"
  }
 },
 "nbformat": 4,
 "nbformat_minor": 5
}
